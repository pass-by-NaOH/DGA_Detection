{
 "cells": [
  {
   "cell_type": "code",
   "execution_count": 4,
   "metadata": {
    "collapsed": true
   },
   "outputs": [],
   "source": [
    "from utils import *\n",
    "from model import *\n",
    "\n",
    "# 加载数据\n",
    "filename = 'dataset/dga_domains_full.csv'\n",
    "file_dataframe = read_file(filename)\n",
    "# 1表示DGA域名 0表示正常合法域"
   ]
  },
  {
   "cell_type": "code",
   "execution_count": 5,
   "outputs": [],
   "source": [
    "import nltk\n",
    "\n",
    "# 数据向量化\n",
    "list_Domain = file_dataframe['Domain'].tolist()\n",
    "list_Label = file_dataframe['Label'].tolist()\n",
    "# 返回数据矩阵，数据标签，最大单个域名长度，词字典\n",
    "# data_vector, list_label, max_data_len, valid_chars = domain_to_vector(list_Domain, list_Label)\n",
    "\n",
    "\n",
    "# 生成Bigram\n",
    "Bigram_Data = []\n",
    "\n",
    "for i in range(len(list_Domain)):\n",
    "    var = []\n",
    "    for j in range(len(list_Domain[i]) - 1):\n",
    "        var.append(list_Domain[i][j] + list_Domain[i][j + 1])\n",
    "    Bigram_Data.append(var)\n",
    "\n",
    "Bigram_D = []\n",
    "\n",
    "for i in range(len(list_Domain)):\n",
    "    for j in range(len(list_Domain[i]) - 1):\n",
    "        var = list_Domain[i][j] + list_Domain[i][j + 1]\n",
    "        Bigram_D.append(var)\n",
    "\n",
    "# 使用nltk统计bigram出现的次数\n",
    "\n",
    "freq_dist_Data = nltk.FreqDist(Bigram_D)"
   ],
   "metadata": {
    "collapsed": false
   }
  },
  {
   "cell_type": "markdown",
   "source": [
    "# 根号处理"
   ],
   "metadata": {
    "collapsed": false
   }
  },
  {
   "cell_type": "code",
   "execution_count": 6,
   "outputs": [
    {
     "data": {
      "text/plain": "array([[  0.        ,   0.        ,   0.        , ...,  65.34302017,\n         71.63917046,  18.84350491],\n       [  0.        ,   0.        ,   0.        , ..., 141.72309365,\n        129.12623648,  81.58487904],\n       [  0.        ,   0.        ,   0.        , ..., 202.81518832,\n        166.32585756, 122.2578794 ],\n       ...,\n       [  0.        ,   0.        ,   0.        , ..., 157.00232617,\n        137.15744942,  95.69483764],\n       [  0.        ,   0.        ,   0.        , ..., 146.36113892,\n         57.96552393,  54.99955108],\n       [  0.        ,   0.        ,   0.        , ...,  86.2274338 ,\n         80.62823769, 151.14393229]])"
     },
     "execution_count": 6,
     "metadata": {},
     "output_type": "execute_result"
    }
   ],
   "source": [
    "# 用bigram出现的频率替换为数字\n",
    "def data_to_vector1(freq_dist, Bigram_list, list_Label):\n",
    "    # 使用构造好的字典对域名进行处理\n",
    "    list_data = [[freq_dist[y] for y in x] for x in Bigram_list]\n",
    "    max_data_len = len(max(Bigram_list, key=len, default=''))\n",
    "    # 以里面域名最大长度构造特征，小于最大长度的用一个非常小的值填充\n",
    "    PAD_VALUE = 1e-10\n",
    "    data_vector = sequence.pad_sequences(list_data, maxlen=max_data_len, dtype=np.float, value=PAD_VALUE)\n",
    "    # 开平方根处理，使域名向量不会过大而导致无法输入神经网络，加60能够保留出现次数低的特征\n",
    "    data_vector = np.sqrt(data_vector + 60) - np.sqrt(PAD_VALUE + 60)\n",
    "    # 将标签列表转化为ndarray\n",
    "    list_label = np.array(list_Label)\n",
    "    return data_vector, list_label,max_data_len\n",
    "\n",
    "data_vector1, list_label, max_data_len = data_to_vector1(freq_dist_Data, Bigram_Data, list_Label)\n",
    "data_vector1"
   ],
   "metadata": {
    "collapsed": false
   }
  },
  {
   "cell_type": "markdown",
   "source": [
    "# 对数处理"
   ],
   "metadata": {
    "collapsed": false
   }
  },
  {
   "cell_type": "code",
   "execution_count": 7,
   "outputs": [
    {
     "data": {
      "text/plain": "array([[0.        , 0.        , 0.        , ..., 4.48901083, 4.65427776,\n        2.4666861 ],\n       [0.        , 0.        , 0.        , ..., 5.91983427, 5.74375077,\n        4.89034913],\n       [0.        , 0.        , 0.        , ..., 6.6052077 , 6.22459143,\n        5.64078351],\n       ...,\n       [0.        , 0.        , 0.        , ..., 6.11449306, 5.85779029,\n        5.18365446],\n       [0.        , 0.        , 0.        , ..., 5.98095114, 4.27620305,\n        4.18382973],\n       [0.        , 0.        , 0.        , ..., 4.99167898, 4.86881568,\n        6.04207844]])"
     },
     "execution_count": 7,
     "metadata": {},
     "output_type": "execute_result"
    }
   ],
   "source": [
    "# 用bigram出现的频率替换为数字\n",
    "def data_to_vector2(freq_dist, Bigram_list, list_Label):\n",
    "    # 使用构造好的字典对域名进行处理\n",
    "    list_data = [[freq_dist[y] for y in x] for x in Bigram_list]\n",
    "    max_data_len = len(max(Bigram_list, key=len, default=''))\n",
    "    # 以里面域名最大长度构造特征，小于最大长度的用一个非常小的值填充\n",
    "    PAD_VALUE = 1e-10\n",
    "    data_vector = sequence.pad_sequences(list_data, maxlen=max_data_len, dtype=np.float, value=PAD_VALUE)\n",
    "    # 对数处理\n",
    "    data_vector = np.log(data_vector + 60) - np.log(PAD_VALUE + 60)\n",
    "    # 将标签列表转化为ndarray\n",
    "    list_label = np.array(list_Label)\n",
    "    return data_vector, list_label,max_data_len\n",
    "\n",
    "data_vector2, list_label, max_data_len = data_to_vector2(freq_dist_Data, Bigram_Data, list_Label)\n",
    "data_vector2"
   ],
   "metadata": {
    "collapsed": false
   }
  },
  {
   "cell_type": "markdown",
   "source": [
    "# 原向量"
   ],
   "metadata": {
    "collapsed": false
   }
  },
  {
   "cell_type": "code",
   "execution_count": 8,
   "outputs": [
    {
     "data": {
      "text/plain": "array([[    0.,     0.,     0., ...,  5282.,  6242.,   647.],\n       [    0.,     0.,     0., ..., 22281., 18674.,  7920.],\n       [    0.,     0.,     0., ..., 44276., 30241., 16841.],\n       ...,\n       [    0.,     0.,     0., ..., 27082., 20937., 10640.],\n       [    0.,     0.,     0., ..., 23689.,  4258.,  3877.],\n       [    0.,     0.,     0., ...,  8771.,  7750., 25186.]])"
     },
     "execution_count": 8,
     "metadata": {},
     "output_type": "execute_result"
    }
   ],
   "source": [
    "# 用bigram出现的频率替换为数字\n",
    "def data_to_vector3(freq_dist, Bigram_list, list_Label):\n",
    "    # 使用构造好的字典对域名进行处理\n",
    "    list_data = [[freq_dist[y] for y in x] for x in Bigram_list]\n",
    "    max_data_len = len(max(Bigram_list, key=len, default=''))\n",
    "    # 以里面域名最大长度构造特征，小于最大长度的用一个非常小的值填充\n",
    "    data_vector = sequence.pad_sequences(list_data, maxlen=max_data_len, dtype=np.float)\n",
    "    # 将标签列表转化为ndarray\n",
    "    list_label = np.array(list_Label)\n",
    "    return data_vector, list_label,max_data_len\n",
    "data_vector3, list_label, max_data_len = data_to_vector3(freq_dist_Data, Bigram_Data, list_Label)\n",
    "data_vector3"
   ],
   "metadata": {
    "collapsed": false
   }
  },
  {
   "cell_type": "markdown",
   "source": [
    "# 标准归一化处理"
   ],
   "metadata": {
    "collapsed": false
   }
  },
  {
   "cell_type": "code",
   "execution_count": 10,
   "outputs": [
    {
     "data": {
      "text/plain": "array([[0.        , 0.        , 0.        , ..., 0.07039194, 0.08317341,\n        0.00849028],\n       [0.        , 0.        , 0.        , ..., 0.29693351, 0.24885388,\n        0.10542871],\n       [0.        , 0.        , 0.        , ..., 0.59005557, 0.40300656,\n        0.22433257],\n       ...,\n       [0.        , 0.        , 0.        , ..., 0.36091528, 0.27901274,\n        0.14168233],\n       [0.        , 0.        , 0.        , ..., 0.31569759, 0.05673277,\n        0.05154145],\n       [0.        , 0.        , 0.        , ..., 0.116889  , 0.10327043,\n        0.3355592 ]])"
     },
     "execution_count": 10,
     "metadata": {},
     "output_type": "execute_result"
    }
   ],
   "source": [
    "from sklearn.preprocessing import StandardScaler,MinMaxScaler\n",
    "scaler = StandardScaler()\n",
    "minmax = MinMaxScaler()\n",
    "data_vector4 = minmax.fit_transform(scaler.fit_transform(data_vector3))\n",
    "data_vector4"
   ],
   "metadata": {
    "collapsed": false
   }
  },
  {
   "cell_type": "code",
   "execution_count": null,
   "outputs": [],
   "source": [],
   "metadata": {
    "collapsed": false
   }
  }
 ],
 "metadata": {
  "kernelspec": {
   "display_name": "Python 3",
   "language": "python",
   "name": "python3"
  },
  "language_info": {
   "codemirror_mode": {
    "name": "ipython",
    "version": 2
   },
   "file_extension": ".py",
   "mimetype": "text/x-python",
   "name": "python",
   "nbconvert_exporter": "python",
   "pygments_lexer": "ipython2",
   "version": "2.7.6"
  }
 },
 "nbformat": 4,
 "nbformat_minor": 0
}
